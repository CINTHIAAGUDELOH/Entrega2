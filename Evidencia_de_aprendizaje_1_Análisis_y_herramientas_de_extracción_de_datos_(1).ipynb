{
  "nbformat": 4,
  "nbformat_minor": 0,
  "metadata": {
    "colab": {
      "provenance": [],
      "include_colab_link": true
    },
    "kernelspec": {
      "name": "python3",
      "display_name": "Python 3"
    },
    "language_info": {
      "name": "python"
    }
  },
  "cells": [
    {
      "cell_type": "markdown",
      "metadata": {
        "id": "view-in-github",
        "colab_type": "text"
      },
      "source": [
        "<a href=\"https://colab.research.google.com/github/CINTHIAAGUDELOH/Entrega2/blob/main/Evidencia_de_aprendizaje_1_An%C3%A1lisis_y_herramientas_de_extracci%C3%B3n_de_datos_(1).ipynb\" target=\"_parent\"><img src=\"https://colab.research.google.com/assets/colab-badge.svg\" alt=\"Open In Colab\"/></a>"
      ]
    },
    {
      "cell_type": "code",
      "execution_count": null,
      "metadata": {
        "id": "m-XBpzYRRiWd"
      },
      "outputs": [],
      "source": []
    },
    {
      "cell_type": "markdown",
      "source": [
        "Evidencia de aprendizaje 1. Análisis y herramientas de extracción de datos\n",
        "\n",
        "Daniel Lopera Gomez\n",
        "\n",
        "Laura Arboleda Gallego\n",
        "\n",
        "Cinthia Agudelo Herrera\n",
        "\n",
        "Ingenieria de Software\n",
        "\n",
        "Programacion para analisis de datos\n"
      ],
      "metadata": {
        "id": "ViDDlFRcRl95"
      }
    },
    {
      "cell_type": "markdown",
      "source": [
        "**INTRODUCCION**\n",
        "\n",
        "\n",
        "La metodología de scraping, o extracción de datos, se ha convertido en una herramienta fundamental en el ámbito de la recopilación y análisis de información en la era digital. A medida que la cantidad de datos disponibles en línea crece exponencialmente, el scraping permite a los investigadores, analistas de mercado y desarrolladores acceder a información valiosa de manera eficiente. Esta técnica implica la utilización de software o scripts para extraer datos de sitios web, permitiendo así la recolección de información de diversas fuentes en un formato estructurado. A través de esta metodología, es posible obtener datos que van desde precios de productos hasta comentarios de usuarios, abriendo un abanico de oportunidades para la toma de decisiones informadas y el desarrollo de estrategias basadas en datos."
      ],
      "metadata": {
        "id": "grEIdtbzTUR9"
      }
    },
    {
      "cell_type": "markdown",
      "source": [
        "**Descripción de la página y artículo a analizar.**\n",
        "\n",
        "Mercado Libre es una plataforma de comercio electrónico líder en América Latina, que permite a los usuarios comprar y vender productos de diversas categorías, como tecnología, moda, hogar y más. Ofrece servicios de pago (Mercado Pago), envío (Mercado Envíos) y financiamiento (Mercado Crédito). Está presente en varios países de la región, incluyendo Argentina, Brasil, México y Colombia.\n",
        "\n",
        "En este análisis, centraremos nuestra atención en la página de Mercado Libre Colombia.Esto nos permitirá realizar un análisis más profundo del mercado a nivel nacional.\n",
        "\n",
        "El enfoque principal será en los Computadores Portatiles, los computadores son una herramientas esencial en nuestra vida cotidiana, tanto para el trabajo como para el estudio. A través de este análisis, buscaremos determinar el costo de adquirir estos dispositivos tan fundamentales y evaluar su accesibilidad en el mercado colombiano y como puede variar los precios segun las marcas y sus caracteristicas."
      ],
      "metadata": {
        "id": "O6P534t7Uc5h"
      }
    },
    {
      "cell_type": "markdown",
      "source": [
        "**OBJETIVOS**\n",
        "\n",
        "**Determinar los precios promedio:** Identificar los costos de los computadores portatiles para establecer un rango de precios y compararlo con otros canales de venta.\n",
        "\n",
        "**Evaluar la accesibilidad:**Examinar la disponibilidad en las diferentes tiendas segun caracteristicas y marca\n",
        "\n",
        "**Realizar un análisis comparativo:** Comparar los precios de los computadores en Mercado Libre con los ofrecidos en otras plataformas y tiendas físicas, para evaluar la competitividad del mercado."
      ],
      "metadata": {
        "id": "VsxVkj0vfzYB"
      }
    },
    {
      "cell_type": "markdown",
      "source": [
        "### **METODOLOGIA SCRAPING CON SELENIUM**"
      ],
      "metadata": {
        "id": "SKB0IFEshf06"
      }
    },
    {
      "cell_type": "code",
      "source": [
        "# Instalación de los paquetes\n",
        "\n",
        "!pip install selenium\n",
        "!apt-get update\n",
        "!apt install chromium-chromedriver\n",
        "!cp /usr/lib/chromium-browser/chromedriver /usr/bin\n",
        "!pip install selenium pandas openpyxl"
      ],
      "metadata": {
        "colab": {
          "base_uri": "https://localhost:8080/"
        },
        "collapsed": true,
        "id": "qVQCYF8shi_1",
        "outputId": "cf9a3723-cf1f-417d-80a1-2b5d74a06ef2"
      },
      "execution_count": 4,
      "outputs": [
        {
          "output_type": "stream",
          "name": "stdout",
          "text": [
            "Requirement already satisfied: selenium in /usr/local/lib/python3.10/dist-packages (4.26.1)\n",
            "Requirement already satisfied: urllib3<3,>=1.26 in /usr/local/lib/python3.10/dist-packages (from urllib3[socks]<3,>=1.26->selenium) (2.2.3)\n",
            "Requirement already satisfied: trio~=0.17 in /usr/local/lib/python3.10/dist-packages (from selenium) (0.27.0)\n",
            "Requirement already satisfied: trio-websocket~=0.9 in /usr/local/lib/python3.10/dist-packages (from selenium) (0.11.1)\n",
            "Requirement already satisfied: certifi>=2021.10.8 in /usr/local/lib/python3.10/dist-packages (from selenium) (2024.8.30)\n",
            "Requirement already satisfied: typing_extensions~=4.9 in /usr/local/lib/python3.10/dist-packages (from selenium) (4.12.2)\n",
            "Requirement already satisfied: websocket-client~=1.8 in /usr/local/lib/python3.10/dist-packages (from selenium) (1.8.0)\n",
            "Requirement already satisfied: attrs>=23.2.0 in /usr/local/lib/python3.10/dist-packages (from trio~=0.17->selenium) (24.2.0)\n",
            "Requirement already satisfied: sortedcontainers in /usr/local/lib/python3.10/dist-packages (from trio~=0.17->selenium) (2.4.0)\n",
            "Requirement already satisfied: idna in /usr/local/lib/python3.10/dist-packages (from trio~=0.17->selenium) (3.10)\n",
            "Requirement already satisfied: outcome in /usr/local/lib/python3.10/dist-packages (from trio~=0.17->selenium) (1.3.0.post0)\n",
            "Requirement already satisfied: sniffio>=1.3.0 in /usr/local/lib/python3.10/dist-packages (from trio~=0.17->selenium) (1.3.1)\n",
            "Requirement already satisfied: exceptiongroup in /usr/local/lib/python3.10/dist-packages (from trio~=0.17->selenium) (1.2.2)\n",
            "Requirement already satisfied: wsproto>=0.14 in /usr/local/lib/python3.10/dist-packages (from trio-websocket~=0.9->selenium) (1.2.0)\n",
            "Requirement already satisfied: pysocks!=1.5.7,<2.0,>=1.5.6 in /usr/local/lib/python3.10/dist-packages (from urllib3[socks]<3,>=1.26->selenium) (1.7.1)\n",
            "Requirement already satisfied: h11<1,>=0.9.0 in /usr/local/lib/python3.10/dist-packages (from wsproto>=0.14->trio-websocket~=0.9->selenium) (0.14.0)\n",
            "Get:1 http://security.ubuntu.com/ubuntu jammy-security InRelease [129 kB]\n",
            "Hit:2 http://archive.ubuntu.com/ubuntu jammy InRelease\n",
            "Get:3 http://archive.ubuntu.com/ubuntu jammy-updates InRelease [128 kB]\n",
            "Hit:4 https://cloud.r-project.org/bin/linux/ubuntu jammy-cran40/ InRelease\n",
            "Hit:5 http://archive.ubuntu.com/ubuntu jammy-backports InRelease\n",
            "Hit:6 https://developer.download.nvidia.com/compute/cuda/repos/ubuntu2204/x86_64  InRelease\n",
            "Hit:7 https://ppa.launchpadcontent.net/deadsnakes/ppa/ubuntu jammy InRelease\n",
            "Hit:8 https://ppa.launchpadcontent.net/graphics-drivers/ppa/ubuntu jammy InRelease\n",
            "Hit:9 https://ppa.launchpadcontent.net/ubuntugis/ppa/ubuntu jammy InRelease\n",
            "Hit:10 https://r2u.stat.illinois.edu/ubuntu jammy InRelease\n",
            "Get:11 http://security.ubuntu.com/ubuntu jammy-security/restricted amd64 Packages [3,279 kB]\n",
            "Get:12 http://security.ubuntu.com/ubuntu jammy-security/main amd64 Packages [2,428 kB]\n",
            "Get:13 http://archive.ubuntu.com/ubuntu jammy-updates/main amd64 Packages [2,718 kB]\n",
            "Get:14 http://archive.ubuntu.com/ubuntu jammy-updates/restricted amd64 Packages [3,383 kB]\n",
            "Fetched 12.1 MB in 3s (4,175 kB/s)\n",
            "Reading package lists... Done\n",
            "W: Skipping acquire of configured file 'main/source/Sources' as repository 'https://r2u.stat.illinois.edu/ubuntu jammy InRelease' does not seem to provide it (sources.list entry misspelt?)\n",
            "Reading package lists... Done\n",
            "Building dependency tree... Done\n",
            "Reading state information... Done\n",
            "chromium-chromedriver is already the newest version (1:85.0.4183.83-0ubuntu2.22.04.1).\n",
            "0 upgraded, 0 newly installed, 0 to remove and 57 not upgraded.\n",
            "cp: '/usr/lib/chromium-browser/chromedriver' and '/usr/bin/chromedriver' are the same file\n",
            "Requirement already satisfied: selenium in /usr/local/lib/python3.10/dist-packages (4.26.1)\n",
            "Requirement already satisfied: pandas in /usr/local/lib/python3.10/dist-packages (2.2.2)\n",
            "Requirement already satisfied: openpyxl in /usr/local/lib/python3.10/dist-packages (3.1.5)\n",
            "Requirement already satisfied: urllib3<3,>=1.26 in /usr/local/lib/python3.10/dist-packages (from urllib3[socks]<3,>=1.26->selenium) (2.2.3)\n",
            "Requirement already satisfied: trio~=0.17 in /usr/local/lib/python3.10/dist-packages (from selenium) (0.27.0)\n",
            "Requirement already satisfied: trio-websocket~=0.9 in /usr/local/lib/python3.10/dist-packages (from selenium) (0.11.1)\n",
            "Requirement already satisfied: certifi>=2021.10.8 in /usr/local/lib/python3.10/dist-packages (from selenium) (2024.8.30)\n",
            "Requirement already satisfied: typing_extensions~=4.9 in /usr/local/lib/python3.10/dist-packages (from selenium) (4.12.2)\n",
            "Requirement already satisfied: websocket-client~=1.8 in /usr/local/lib/python3.10/dist-packages (from selenium) (1.8.0)\n",
            "Requirement already satisfied: numpy>=1.22.4 in /usr/local/lib/python3.10/dist-packages (from pandas) (1.26.4)\n",
            "Requirement already satisfied: python-dateutil>=2.8.2 in /usr/local/lib/python3.10/dist-packages (from pandas) (2.8.2)\n",
            "Requirement already satisfied: pytz>=2020.1 in /usr/local/lib/python3.10/dist-packages (from pandas) (2024.2)\n",
            "Requirement already satisfied: tzdata>=2022.7 in /usr/local/lib/python3.10/dist-packages (from pandas) (2024.2)\n",
            "Requirement already satisfied: et-xmlfile in /usr/local/lib/python3.10/dist-packages (from openpyxl) (2.0.0)\n",
            "Requirement already satisfied: six>=1.5 in /usr/local/lib/python3.10/dist-packages (from python-dateutil>=2.8.2->pandas) (1.16.0)\n",
            "Requirement already satisfied: attrs>=23.2.0 in /usr/local/lib/python3.10/dist-packages (from trio~=0.17->selenium) (24.2.0)\n",
            "Requirement already satisfied: sortedcontainers in /usr/local/lib/python3.10/dist-packages (from trio~=0.17->selenium) (2.4.0)\n",
            "Requirement already satisfied: idna in /usr/local/lib/python3.10/dist-packages (from trio~=0.17->selenium) (3.10)\n",
            "Requirement already satisfied: outcome in /usr/local/lib/python3.10/dist-packages (from trio~=0.17->selenium) (1.3.0.post0)\n",
            "Requirement already satisfied: sniffio>=1.3.0 in /usr/local/lib/python3.10/dist-packages (from trio~=0.17->selenium) (1.3.1)\n",
            "Requirement already satisfied: exceptiongroup in /usr/local/lib/python3.10/dist-packages (from trio~=0.17->selenium) (1.2.2)\n",
            "Requirement already satisfied: wsproto>=0.14 in /usr/local/lib/python3.10/dist-packages (from trio-websocket~=0.9->selenium) (1.2.0)\n",
            "Requirement already satisfied: pysocks!=1.5.7,<2.0,>=1.5.6 in /usr/local/lib/python3.10/dist-packages (from urllib3[socks]<3,>=1.26->selenium) (1.7.1)\n",
            "Requirement already satisfied: h11<1,>=0.9.0 in /usr/local/lib/python3.10/dist-packages (from wsproto>=0.14->trio-websocket~=0.9->selenium) (0.14.0)\n"
          ]
        }
      ]
    },
    {
      "cell_type": "code",
      "source": [
        "import sys\n",
        "from selenium import webdriver\n",
        "from selenium.webdriver.common.by import By\n",
        "import time\n",
        "import pandas as pd\n",
        "from google.colab import files\n",
        "\n",
        "\n",
        "options= webdriver.ChromeOptions()\n",
        "options.add_argument('--headless')\n",
        "options.add_argument('--no-sandbox')\n",
        "options.add_argument('--disable-dev-shm-usage')\n",
        "driver = webdriver.Chrome(options=options)\n",
        "\n",
        "\n",
        "url = \"https://listado.mercadolibre.com.co/computadores-portatiles#D[A:computadores%20portatiles]\"\n",
        "\n",
        "driver.get(url)\n",
        "\n",
        "time.sleep(5)\n",
        "\n",
        "# Extrae la información\n",
        "\n",
        "# Listas para almacenar los datos extraídos\n",
        "marcas= []\n",
        "precios = []\n",
        "caracteristicas = []\n",
        "\n",
        "computadores = driver.find_elements (By.XPATH,'//li[@class=\"ui-search-layout__item shops__layout-item\"]')\n",
        "\n",
        "\n",
        "for computador in computadores:\n",
        "    try:\n",
        "        marca = computador.find_element(By.XPATH, './/h2[@class=\"poly-box poly-component__title\"]').text\n",
        "        precio = computador.find_element(By.CLASS_NAME, 'andes-money-amount__fraction').text\n",
        "        caracteristicas_texto = computador.find_element(By.XPATH, './/h2[@class=\"poly-box poly-component__title\"]/a').text\n",
        "\n",
        "            # Agrega los datos a las listas\n",
        "        marcas.append(marca)\n",
        "        precios.append(precio)\n",
        "        caracteristicas.append(caracteristicas_texto)\n",
        "    except Exception as e:\n",
        "        print(f'Error al extraer un producto: {e}')\n",
        "\n",
        "# Crea un DataFrame con los datos extraídos\n",
        "df = pd.DataFrame({\n",
        "    'Marcas': marcas,\n",
        "    'Precio': precios,\n",
        "    'Caracteristicas': caracteristicas\n",
        "    })\n",
        "\n",
        "# Imprime el DataFrame\n",
        "print(df)\n",
        "\n",
        "\n",
        "driver.quit()\n",
        "\n",
        "df.to_excel(\"datos_extraidos.xlsx\", index=False)\n",
        "\n",
        "\n",
        "files.download(\"datos_extraidos.xlsx\")\n",
        "\n",
        "# Precio más bajo (más económico)\n",
        "precio_minimo = df['Precio'].min()\n",
        "\n",
        "# Filtrar el producto con el precio más bajo\n",
        "producto_minimo = df[df['Precio'] == precio_minimo]\n",
        "\n",
        "print(\"Producto más económico:\")\n",
        "print(producto_minimo)"
      ],
      "metadata": {
        "colab": {
          "base_uri": "https://localhost:8080/",
          "height": 1000
        },
        "id": "RIiVXggnKiYb",
        "outputId": "ad9b4f52-e3e0-4b16-d279-e6e49adca60b"
      },
      "execution_count": 5,
      "outputs": [
        {
          "output_type": "stream",
          "name": "stdout",
          "text": [
            "                                               Marcas     Precio  \\\n",
            "0   Computador Portátil Compumax Intel Celeron Dis...    995.247   \n",
            "1   Portátil Computador Hp Intel Dual Core Ram 8gb...  1.326.000   \n",
            "2   Portatil Lenovo Intel I5 1235u Solidos 512gb+ ...  2.714.143   \n",
            "3   Computador Portatil Asus X1504za-nj227 Core I5...  1.999.900   \n",
            "4   Portátil Computador Dell Intel Core I3 Ssd 512...  1.470.000   \n",
            "5   Portatil Acer A315-59-50kp Ci5 1235u 15,6 8gb ...  1.931.334   \n",
            "6   Computador Portatil Lenovo Intel I3 1215u Ram ...  2.071.286   \n",
            "7   Computador Portatil Dell Core I5 11gen 16gb 1t...  2.003.105   \n",
            "8   Notebook Dell Inspiron 3525 platinum silver 15...  2.450.000   \n",
            "9   Potátil 255 G7 15.6\" color gris 8GB de Ram - 1...  1.550.000   \n",
            "10  Computador Portatil Asus I7 12700h Ram 24gb Ss...  4.428.429   \n",
            "11  Hp 15-ef2523la Ryzen 5 5500u Ram 12gb Ssd 256g...  1.764.700   \n",
            "12  Computador Portatil Asus X1504za Core I5 1235u...  1.899.900   \n",
            "13  Computador Portatil Gamer Msi Cyborg Negra 15....  6.499.999   \n",
            "14  Computador Portatil Gamer Lenovo Loq 15arp9 Gr...  5.276.999   \n",
            "15  Computador Portatil Hp 14 Celeron Ssd 256gb Ra...  1.178.980   \n",
            "16  Computador Portatil Gamer Lenovo Loq 15arp9 Gr...  5.676.000   \n",
            "17  Computador Portatil Gamer Asus Tuf Gaming A16 ...  4.939.000   \n",
            "18  Portátil Lenovo V14 G4 Amn Amd Ryzen 5 7520u R...  2.168.100   \n",
            "19  Computador Gamer Lenovo Legion 5 15ARP8 Storm ...  5.399.999   \n",
            "20  Portatil Hp Pavilion 15-eg0500la Intelci5 8gb ...  2.099.000   \n",
            "21  Computador Portatil Dell 3520 Core I3 1215u 8g...  1.299.900   \n",
            "22  Computador Portatil Asus Amd Ryzen 7 7730u Ssd...  2.949.900   \n",
            "23  Computador Portatil Gamer Lenovo Loq 15irx9 Gr...  6.054.999   \n",
            "24  Computador Portátil Compumax Intel Celeron Dis...    995.247   \n",
            "25  Portátil Computador Hp Intel Dual Core Ram 8gb...  1.326.000   \n",
            "26  Potátil 240 G7 14\" color plateado ceniza oscur...  1.180.000   \n",
            "27  Computador Portátil Acer Core I5 Ram 8gb 256gb...  2.100.000   \n",
            "28  Computador Portátil Compumax Intel Celeron Dis...    798.900   \n",
            "29  Portatil Computador Lenovo Intel Dual Core Ssd...  1.129.900   \n",
            "30      Portátil Asus X415ma 14 Cel 4gb Ram 128gb Ssd  1.332.000   \n",
            "31  Potátil IdeaPad Slim 1 14\" color platinum gray...  1.259.830   \n",
            "32  Portátil Acer Aspire 3 15.6 I3-1215u Ram 8gb M...  1.621.375   \n",
            "33  Portatil Coin Ryzen 5 5500u 8gb Ssd 256gb 14 W...  1.359.900   \n",
            "34  Computador Portatil Dell 3520 Core I3 1215u 12...  1.914.143   \n",
            "35  Computador Portatil Asus Amd Ryzen 7 7730u Ssd...  3.259.900   \n",
            "36  Potátil 14-cf2062la 14\" color gris pizarra 4GB...  1.300.000   \n",
            "37  Computador Portatil Dell Core I5 12gen 16gb 25...  1.900.000   \n",
            "38  Portátil Computador Dell Intel Core I3 Ssd 512...  1.575.000   \n",
            "39  Computador Portatil Hp Ryzen 5 Ram 20gb Disco ...  2.249.900   \n",
            "40  Computador Portatil Hp Ryzen 5 16gb Ram 512gb ...  1.950.000   \n",
            "41  Computador Portatil Lenovo Intel Core I5 Ssd 2...  2.120.000   \n",
            "42  Computador Portatil Hp 240 G8 1tb - 8gb - 14 W...  1.450.000   \n",
            "43  Computador Portatil Hp Ryzen 5 32gb Ram 1tera ...  2.675.140   \n",
            "44  Computador Portatil Asus I7 12700h Ram 24gb Ss...  4.571.286   \n",
            "45  Portátil Computador Dell Intel Core I3 Hdd 1tb...  1.729.900   \n",
            "46  Portatil Computador Lenovo Intel Dual Core Ssd...  1.329.900   \n",
            "47  Computador Portatil Asus Amd Ryzen 7 7730u Ssd...  2.809.900   \n",
            "48  Computador Hp 255 15.6 Amd3020e 8gb , 1tb Hdd,...  1.650.000   \n",
            "49  Computador Portatil Asus Oled Ryzen 5 8gb 512s...  2.180.000   \n",
            "50  Computador Portatil Acer Amd Ryzen 5 7520u Mem...  2.790.970   \n",
            "51  Portátil Computador Dell Intel Core I3 Ssd 1tb...  1.849.900   \n",
            "\n",
            "                                      Caracteristicas  \n",
            "0   Computador Portátil Compumax Intel Celeron Dis...  \n",
            "1   Portátil Computador Hp Intel Dual Core Ram 8gb...  \n",
            "2   Portatil Lenovo Intel I5 1235u Solidos 512gb+ ...  \n",
            "3   Computador Portatil Asus X1504za-nj227 Core I5...  \n",
            "4   Portátil Computador Dell Intel Core I3 Ssd 512...  \n",
            "5   Portatil Acer A315-59-50kp Ci5 1235u 15,6 8gb ...  \n",
            "6   Computador Portatil Lenovo Intel I3 1215u Ram ...  \n",
            "7   Computador Portatil Dell Core I5 11gen 16gb 1t...  \n",
            "8   Notebook Dell Inspiron 3525 platinum silver 15...  \n",
            "9   Potátil 255 G7 15.6\" color gris 8GB de Ram - 1...  \n",
            "10  Computador Portatil Asus I7 12700h Ram 24gb Ss...  \n",
            "11  Hp 15-ef2523la Ryzen 5 5500u Ram 12gb Ssd 256g...  \n",
            "12  Computador Portatil Asus X1504za Core I5 1235u...  \n",
            "13  Computador Portatil Gamer Msi Cyborg Negra 15....  \n",
            "14  Computador Portatil Gamer Lenovo Loq 15arp9 Gr...  \n",
            "15  Computador Portatil Hp 14 Celeron Ssd 256gb Ra...  \n",
            "16  Computador Portatil Gamer Lenovo Loq 15arp9 Gr...  \n",
            "17  Computador Portatil Gamer Asus Tuf Gaming A16 ...  \n",
            "18  Portátil Lenovo V14 G4 Amn Amd Ryzen 5 7520u R...  \n",
            "19  Computador Gamer Lenovo Legion 5 15ARP8 Storm ...  \n",
            "20  Portatil Hp Pavilion 15-eg0500la Intelci5 8gb ...  \n",
            "21  Computador Portatil Dell 3520 Core I3 1215u 8g...  \n",
            "22  Computador Portatil Asus Amd Ryzen 7 7730u Ssd...  \n",
            "23  Computador Portatil Gamer Lenovo Loq 15irx9 Gr...  \n",
            "24  Computador Portátil Compumax Intel Celeron Dis...  \n",
            "25  Portátil Computador Hp Intel Dual Core Ram 8gb...  \n",
            "26  Potátil 240 G7 14\" color plateado ceniza oscur...  \n",
            "27  Computador Portátil Acer Core I5 Ram 8gb 256gb...  \n",
            "28  Computador Portátil Compumax Intel Celeron Dis...  \n",
            "29  Portatil Computador Lenovo Intel Dual Core Ssd...  \n",
            "30      Portátil Asus X415ma 14 Cel 4gb Ram 128gb Ssd  \n",
            "31  Potátil IdeaPad Slim 1 14\" color platinum gray...  \n",
            "32  Portátil Acer Aspire 3 15.6 I3-1215u Ram 8gb M...  \n",
            "33  Portatil Coin Ryzen 5 5500u 8gb Ssd 256gb 14 W...  \n",
            "34  Computador Portatil Dell 3520 Core I3 1215u 12...  \n",
            "35  Computador Portatil Asus Amd Ryzen 7 7730u Ssd...  \n",
            "36  Potátil 14-cf2062la 14\" color gris pizarra 4GB...  \n",
            "37  Computador Portatil Dell Core I5 12gen 16gb 25...  \n",
            "38  Portátil Computador Dell Intel Core I3 Ssd 512...  \n",
            "39  Computador Portatil Hp Ryzen 5 Ram 20gb Disco ...  \n",
            "40  Computador Portatil Hp Ryzen 5 16gb Ram 512gb ...  \n",
            "41  Computador Portatil Lenovo Intel Core I5 Ssd 2...  \n",
            "42  Computador Portatil Hp 240 G8 1tb - 8gb - 14 W...  \n",
            "43  Computador Portatil Hp Ryzen 5 32gb Ram 1tera ...  \n",
            "44  Computador Portatil Asus I7 12700h Ram 24gb Ss...  \n",
            "45  Portátil Computador Dell Intel Core I3 Hdd 1tb...  \n",
            "46  Portatil Computador Lenovo Intel Dual Core Ssd...  \n",
            "47  Computador Portatil Asus Amd Ryzen 7 7730u Ssd...  \n",
            "48  Computador Hp 255 15.6 Amd3020e 8gb , 1tb Hdd,...  \n",
            "49  Computador Portatil Asus Oled Ryzen 5 8gb 512s...  \n",
            "50  Computador Portatil Acer Amd Ryzen 5 7520u Mem...  \n",
            "51  Portátil Computador Dell Intel Core I3 Ssd 1tb...  \n"
          ]
        },
        {
          "output_type": "display_data",
          "data": {
            "text/plain": [
              "<IPython.core.display.Javascript object>"
            ],
            "application/javascript": [
              "\n",
              "    async function download(id, filename, size) {\n",
              "      if (!google.colab.kernel.accessAllowed) {\n",
              "        return;\n",
              "      }\n",
              "      const div = document.createElement('div');\n",
              "      const label = document.createElement('label');\n",
              "      label.textContent = `Downloading \"${filename}\": `;\n",
              "      div.appendChild(label);\n",
              "      const progress = document.createElement('progress');\n",
              "      progress.max = size;\n",
              "      div.appendChild(progress);\n",
              "      document.body.appendChild(div);\n",
              "\n",
              "      const buffers = [];\n",
              "      let downloaded = 0;\n",
              "\n",
              "      const channel = await google.colab.kernel.comms.open(id);\n",
              "      // Send a message to notify the kernel that we're ready.\n",
              "      channel.send({})\n",
              "\n",
              "      for await (const message of channel.messages) {\n",
              "        // Send a message to notify the kernel that we're ready.\n",
              "        channel.send({})\n",
              "        if (message.buffers) {\n",
              "          for (const buffer of message.buffers) {\n",
              "            buffers.push(buffer);\n",
              "            downloaded += buffer.byteLength;\n",
              "            progress.value = downloaded;\n",
              "          }\n",
              "        }\n",
              "      }\n",
              "      const blob = new Blob(buffers, {type: 'application/binary'});\n",
              "      const a = document.createElement('a');\n",
              "      a.href = window.URL.createObjectURL(blob);\n",
              "      a.download = filename;\n",
              "      div.appendChild(a);\n",
              "      a.click();\n",
              "      div.remove();\n",
              "    }\n",
              "  "
            ]
          },
          "metadata": {}
        },
        {
          "output_type": "display_data",
          "data": {
            "text/plain": [
              "<IPython.core.display.Javascript object>"
            ],
            "application/javascript": [
              "download(\"download_d8d0a737-c68d-4cea-894b-8887d5852072\", \"datos_extraidos.xlsx\", 7265)"
            ]
          },
          "metadata": {}
        },
        {
          "output_type": "stream",
          "name": "stdout",
          "text": [
            "Producto más económico:\n",
            "                                               Marcas     Precio  \\\n",
            "29  Portatil Computador Lenovo Intel Dual Core Ssd...  1.129.900   \n",
            "\n",
            "                                      Caracteristicas  \n",
            "29  Portatil Computador Lenovo Intel Dual Core Ssd...  \n"
          ]
        }
      ]
    },
    {
      "cell_type": "code",
      "source": [],
      "metadata": {
        "id": "jjP5mhY2ekDB"
      },
      "execution_count": null,
      "outputs": []
    },
    {
      "cell_type": "markdown",
      "source": [
        "**RESULTADOS**\n",
        "\n",
        "**Precios Promedio:**\n",
        "\n",
        "Se extrajo una muestra de precios de diversos computadores portátiles. Los precios varían ampliamente según la marca, características (como el tamaño de la pantalla, la memoria RAM, el procesador, etc.) y la tienda en la que se ofrece el producto.\n",
        "Los precios promedio pueden ser calculados a partir de los datos extraídos, permitiendo identificar los rangos más comunes para dispositivos básicos, de gama media y alta.\n",
        "\n",
        "**Marcas Más Populares:**\n",
        "Las marcas más representadas en el análisis incluyen HP, Lenovo, Acer, Asus, Dell, entre otras. Esto refleja la variedad del mercado de computadoras portátiles en Colombia y sugiere qué marcas tienen una presencia significativa en la plataforma de Mercado Libre.\n",
        "\n",
        "**Características Comunes:**\n",
        "Las características que se repiten con mayor frecuencia incluyen:\n",
        "Pantallas de 14\" a 15.6\".\n",
        "Procesadores Intel Core i3, i5 y AMD Ryzen.\n",
        "Memoria RAM de 4GB a 8GB.\n",
        "Almacenamiento de 500GB a 1TB en discos duros HDD y SSD.\n",
        "Esto indica que las configuraciones más demandadas son las de gama media, adecuadas tanto para estudiantes como para profesionales que requieren equipos para tareas de productividad diaria.\n",
        "\n",
        "**Accesibilidad:**\n",
        "Los productos están disponibles de forma amplia, lo que indica una buena accesibilidad en términos de cantidad. Sin embargo, los precios y disponibilidad pueden variar según la marca y las características específicas."
      ],
      "metadata": {
        "id": "h1kJs79VQ11K"
      }
    },
    {
      "cell_type": "markdown",
      "source": [
        "**CONCLUSIONES**\n",
        "\n",
        "-Mercado Libre Colombia presenta una gran diversidad de precios, lo que lo convierte en un canal atractivo para consumidores que buscan comparar precios y características antes de tomar una decisión de compra\n",
        "\n",
        "-Los computadores portátiles están ampliamente disponibles, y las características más demandadas son consistentes entre las diferentes marcas y modelos. Esto demuestra que los consumidores en Colombia tienen un acceso relativamente fácil a una amplia gama de productos tecnológicos a través de Mercado Libre.\n",
        "\n",
        "-La variabilidad de características (como el procesador, tamaño de pantalla y capacidad de almacenamiento) sugiere que Mercado Libre tiene un amplio espectro de opciones tanto para usuarios que necesitan equipos básicos como para aquellos que buscan mayor rendimiento para tareas más exigentes.\n",
        "\n",
        "-En resumen, Mercado Libre Colombia es una plataforma eficiente para la compra de computadores portátiles, con una gran variedad de opciones en cuanto a precio, características y marcas."
      ],
      "metadata": {
        "id": "wrzO-tnetfvc"
      }
    },
    {
      "cell_type": "markdown",
      "source": [
        "**BIBLIOGRAFIA**\n",
        "\n",
        "-Hostinger. (s.f.). Python web scraping tutorial. Hostinger. https://www.hostinger.com/tutorials/python-web-scraping?utm_campaign=Generic-Tutorials-DSA|NT:Se|LO:CO-EN&utm_medium=ppc&gad_source=1&gclid=Cj0KCQiArby5BhCDARIsAIJvjISRqPG7mS24cKF9l1zv9Y1Fn-GiXv0YrTvq4b53_lEGaMRik29obL8aAkn_EALw_wcB\n"
      ],
      "metadata": {
        "id": "_WoycTzHuJUL"
      }
    },
    {
      "cell_type": "code",
      "source": [],
      "metadata": {
        "id": "UbqpNqt4WuBo"
      },
      "execution_count": null,
      "outputs": []
    }
  ]
}